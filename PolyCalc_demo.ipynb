{
 "cells": [
  {
   "cell_type": "markdown",
   "metadata": {},
   "source": [
    "# PolyCalc Demo\n",
    "#### Computer Algebra System"
   ]
  },
  {
   "cell_type": "code",
   "execution_count": 1,
   "metadata": {},
   "outputs": [
    {
     "name": "stdout",
     "output_type": "stream",
     "text": [
      "f =  x + 1.0\ng =  x - 1.0\nf*g =  x^2 - 1.0\nf*g/g =  x + 1.0\nx^2 - 1.0 = (x - 1.0)*(x + 1.0) + (remainder:) 0\n"
     ]
    }
   ],
   "source": [
    "from core.polynomial import *\n",
    "f = Polynomial('x + 1')\n",
    "g = Polynomial('x - 1')\n",
    "print('f = ', f)\n",
    "print('g = ', g)\n",
    "print('f*g = ', f*g)\n",
    "print('f*g/g = ', f*g/g)\n",
    "print(division_string(f*g, f))"
   ]
  },
  {
   "cell_type": "code",
   "execution_count": 6,
   "metadata": {},
   "outputs": [
    {
     "name": "stdout",
     "output_type": "stream",
     "text": [
      "groebner basis =  x^2 - 1.0y y^2 - 1.0\n"
     ]
    }
   ],
   "source": [
    "from core.polynomial import Polynomial\n",
    "from core.ideal import Ideal\n",
    "f = Polynomial('x^2y - 1')\n",
    "g = Polynomial('xy^2 - x')\n",
    "I = Ideal(f, g)\n",
    "g_b = I.groebner_basis()\n",
    "print('groebner basis = ', *g_b)"
   ]
  }
 ],
 "metadata": {
  "kernelspec": {
   "display_name": "Python 3",
   "language": "python",
   "name": "python3"
  },
  "language_info": {
   "codemirror_mode": {
    "name": "ipython",
    "version": 3
   },
   "file_extension": ".py",
   "mimetype": "text/x-python",
   "name": "python",
   "nbconvert_exporter": "python",
   "pygments_lexer": "ipython3",
   "version": "3.7.1"
  }
 },
 "nbformat": 4,
 "nbformat_minor": 2
}
