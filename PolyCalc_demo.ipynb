{
 "cells": [
  {
   "cell_type": "markdown",
   "metadata": {},
   "source": [
    "# PolynomialCalculator Demo\n",
    "### A Comprehensive Computer Algebra System\n",
    "\n",
    "This notebook demonstrates the capabilities of PolynomialCalculator v0.2.0, a modern Python Computer Algebra System for polynomial computations, finite field operations, and algebraic computations.\n",
    "\n",
    "## Features Showcased:\n",
    "- **Polynomial Operations**: Addition, multiplication, division, GCD\n",
    "- **String-based Construction**: Create polynomials from mathematical expressions\n",
    "- **Order-independent Equality**: Robust polynomial comparison\n",
    "- **Ideal Theory**: Gröbner basis computation\n",
    "- **Modern Package Structure**: Clean, organized imports"
   ]
  },
  {
   "cell_type": "code",
   "execution_count": null,
   "metadata": {},
   "outputs": [
    {
     "name": "stdout",
     "output_type": "stream",
     "text": [
      "f =  x + 1.0\n",
      "g =  x - 1.0\n",
      "f*g =  x^2 - 1.0\n",
      "solutions =  (1.0, -1.0)\n",
      "f*g/g =  x + 1.0\n",
      "x^2 - 1.0 = (x - 1.0)*(x + 1.0) + (remainder:) 0\n"
     ]
    }
   ],
   "source": [
    "## Basic Polynomial Operations\n",
    "# Import the modern PolynomialCalculator package\n",
    "from polynomials import Polynomial, division_algorithm\n",
    "\n",
    "# Create polynomials using string expressions\n",
    "f = Polynomial('x + 1')\n",
    "g = Polynomial('x - 1') \n",
    "h = Polynomial('x^2 + 2x + 1')\n",
    "\n",
    "print('f =', f)\n",
    "print('g =', g)\n",
    "print('h =', h)\n",
    "print()\n",
    "\n",
    "# Demonstrate arithmetic operations\n",
    "print('=== Polynomial Arithmetic ===')\n",
    "print('f * g =', f * g)\n",
    "print('f + g =', f + g)\n",
    "print('h / f =', h / f)\n",
    "print('h % f =', h % f)\n",
    "print()\n",
    "\n",
    "# Solve equations\n",
    "print('=== Solutions ===')\n",
    "print('Solutions to f*g = 0:', (f * g).solve())\n",
    "print('Solutions to h = 0:', h.solve())\n",
    "print()\n",
    "\n",
    "# Division algorithm\n",
    "quotient, remainder = division_algorithm(h, f)\n",
    "print('=== Division Algorithm ===')\n",
    "print(f'({h}) ÷ ({f}) = {quotient} remainder {remainder}')\n",
    "print(f'Verification: ({f}) * ({quotient}) + ({remainder}) = {f * quotient + remainder}')"
   ]
  },
  {
   "cell_type": "code",
   "execution_count": null,
   "metadata": {},
   "outputs": [
    {
     "name": "stdout",
     "output_type": "stream",
     "text": [
      "groebner basis =  x^2 - y y^2 - 1.0\n"
     ]
    }
   ],
   "source": [
    "## Gröbner Basis Computation\n",
    "# Import Ideal class for polynomial ideal operations\n",
    "from polynomials import Ideal\n",
    "\n",
    "# Create multivariate polynomials\n",
    "print('=== Multivariate Polynomial Ideals ===')\n",
    "f = Polynomial('x^2*y - 1')\n",
    "g = Polynomial('x*y^2 - x')\n",
    "\n",
    "print('f =', f)\n",
    "print('g =', g)\n",
    "print('Variables:', f.variables())\n",
    "print('Degree of f:', f.degree())\n",
    "print()\n",
    "\n",
    "# Create an ideal and compute its Gröbner basis\n",
    "I = Ideal(f, g)\n",
    "print('Ideal I = <f, g>')\n",
    "\n",
    "gb = I.groebner_basis()\n",
    "print('Gröbner basis of I:')\n",
    "for i, poly in enumerate(gb, 1):\n",
    "    print(f'  G{i} = {poly}')\n",
    "print()\n",
    "\n",
    "# Demonstrate polynomial reduction\n",
    "test_poly = Polynomial('x^3*y^2')\n",
    "reduced = I.reduce(test_poly)\n",
    "print(f'Reducing {test_poly} modulo I:')\n",
    "print(f'Result: {reduced}')"
   ]
  },
  {
   "cell_type": "code",
   "execution_count": 2,
   "metadata": {},
   "outputs": [
    {
     "name": "stdout",
     "output_type": "stream",
     "text": [
      "groebner basis =  -y^2 + 1.0 -x^2 + y\n",
      "J = I?  True\n"
     ]
    }
   ],
   "source": [
    "## Advanced Features: Order-Independent Equality & Ideal Comparison\n",
    "\n",
    "# Demonstrate order-independent polynomial equality\n",
    "print('=== Order-Independent Equality ===')\n",
    "p1 = Polynomial('x^2 + 2*x + 1')\n",
    "p2 = Polynomial('1 + 2*x + x^2')  # Same polynomial, different order\n",
    "p3 = Polynomial('(x + 1)^2')      # Equivalent expression\n",
    "\n",
    "print('p1 =', p1)\n",
    "print('p2 =', p2)\n",
    "print('p3 =', p3)\n",
    "print('p1 == p2:', p1 == p2)  # True (order-independent)\n",
    "print('p1 == p3:', p1 == p3)  # True (mathematically equivalent)\n",
    "print()\n",
    "\n",
    "# Different ideal with same solutions\n",
    "print('=== Ideal Comparison ===')\n",
    "s = Polynomial('-x^2 + y')\n",
    "t = Polynomial('-y^2 + 1')\n",
    "J = Ideal(s, t)\n",
    "\n",
    "print('Creating ideal J = <-x^2 + y, -y^2 + 1>')\n",
    "print('Gröbner basis of J:')\n",
    "for i, poly in enumerate(J.groebner_basis(), 1):\n",
    "    print(f'  H{i} = {poly}')\n",
    "\n",
    "print()\n",
    "print('Comparing ideals I and J:')\n",
    "print('J == I:', J == I)\n",
    "print('(Note: Different representations may lead to different Gröbner bases)')\n",
    "\n",
    "# Demonstrate solving systems\n",
    "print('\\n=== System Solutions ===')\n",
    "solutions = J.solve_system()\n",
    "print('Solutions to the system {-x^2 + y = 0, -y^2 + 1 = 0}:')\n",
    "if solutions:\n",
    "    for sol in solutions:\n",
    "        print(f'  {sol}')\n",
    "else:\n",
    "    print('  No solutions found (may require numerical methods)')"
   ]
  }
 ],
 "metadata": {
  "kernelspec": {
   "display_name": "Python 3",
   "language": "python",
   "name": "python3"
  },
  "language_info": {
   "codemirror_mode": {
    "name": "ipython",
    "version": 3
   },
   "file_extension": ".py",
   "mimetype": "text/x-python",
   "name": "python",
   "nbconvert_exporter": "python",
   "pygments_lexer": "ipython3",
   "version": "3.7.1"
  }
 },
 "nbformat": 4,
 "nbformat_minor": 2
}
